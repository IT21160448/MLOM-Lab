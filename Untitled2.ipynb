{
  "nbformat": 4,
  "nbformat_minor": 0,
  "metadata": {
    "colab": {
      "provenance": []
    },
    "kernelspec": {
      "name": "python3",
      "display_name": "Python 3"
    },
    "language_info": {
      "name": "python"
    }
  },
  "cells": [
    {
      "cell_type": "code",
      "execution_count": 23,
      "metadata": {
        "id": "aK9mz6I5y96C"
      },
      "outputs": [],
      "source": [
        "#Imports\n",
        "\n",
        "import tensorflow as tf\n",
        "from tensorflow import keras\n",
        "from tensorflow.keras import layers, models\n",
        "\n",
        "#Helper Libraries\n",
        "import numpy as np\n",
        "import matplotlib.pyplot as plt\n",
        "\n",
        "#This function is used to split datasets into training and testing datasets.\n",
        "from sklearn.model_selection import train_test_split\n",
        "import os\n",
        "from PIL import Image"
      ]
    },
    {
      "cell_type": "code",
      "source": [
        "#Connecting with Google drive\n",
        "from google.colab import drive\n",
        "drive.mount('/content/drive')"
      ],
      "metadata": {
        "colab": {
          "base_uri": "https://localhost:8080/"
        },
        "id": "yUaHM6ha0mUC",
        "outputId": "fde0ac03-8949-4954-9677-0e1630fabc42"
      },
      "execution_count": 24,
      "outputs": [
        {
          "output_type": "stream",
          "name": "stdout",
          "text": [
            "Drive already mounted at /content/drive; to attempt to forcibly remount, call drive.mount(\"/content/drive\", force_remount=True).\n"
          ]
        }
      ]
    },
    {
      "cell_type": "code",
      "source": [
        "%cd /content/drive/MyDrive/MLOM/Practice/archive"
      ],
      "metadata": {
        "colab": {
          "base_uri": "https://localhost:8080/"
        },
        "id": "5K5ODdbh2C3C",
        "outputId": "081dbbb4-a6b5-4ef4-fa41-2dac2908b7d9"
      },
      "execution_count": 25,
      "outputs": [
        {
          "output_type": "stream",
          "name": "stdout",
          "text": [
            "/content/drive/MyDrive/MLOM/Practice/archive\n"
          ]
        }
      ]
    },
    {
      "cell_type": "code",
      "source": [
        "#Dataset Path\n",
        "dataset_path = '/content/drive/MyDrive/MLOM/Practice/archive'\n",
        "\n",
        "#Get the list of image file paths and corresponding labels\n",
        "image_paths = []\n",
        "labels = []\n",
        "\n",
        "for folder_name in os.listdir(dataset_path) :\n",
        "  folder_path = os.path.join(dataset_path, folder_name)\n",
        "  if os.path.isdir(folder_path) :\n",
        "    for image_name in os.listdir(folder_path) :\n",
        "      if image_name.endswith('.jpg'):\n",
        "        image_path = os.path.join(folder_path, image_name)\n",
        "        image = Image.open(image_path)\n",
        "        image = image.resize((124, 124))  #Resize to 124 x 124\n",
        "        image = np.array(image) / 255.0   #Normalize\n",
        "        image_paths.append(image_path)\n",
        "        labels.append(folder_name)\n",
        "\n",
        "#Encode Labels as Integers\n",
        "label_to_int = {label : idx for idx, label in enumerate (np.unique(labels))}\n",
        "int_labels = [label_to_int[label]for label in labels]\n",
        "\n",
        "#Split the dataset into training and testing data\n",
        "X_train, X_val, y_train, y_val = train_test_split(image_paths, int_labels, test_size = 0.2, random_state = 42)\n"
      ],
      "metadata": {
        "id": "bo8495UL2QWZ"
      },
      "execution_count": 26,
      "outputs": []
    },
    {
      "cell_type": "code",
      "source": [
        "#Build the initial CNN model\n",
        "model = models.Sequential()\n",
        "\n",
        "#This is the first convolution\n",
        "model.add(layers.Conv2D(2, (3, 3), activation = 'sigmoid', input_shape = (124, 124, 3), padding = 'valid' ))\n",
        "model.add(layers.MaxPooling2D((2, 2)))\n",
        "\n",
        "#This is the second convolution layer\n",
        "model.add(layers.Conv2D(2, (3, 3), activation = 'relu', padding = 'valid'))\n",
        "model.add(layers.MaxPooling2D((2, 2)))\n",
        "\n",
        "model.add(layers.Flatten())   #Input Layer\n",
        "model.add(layers.Dense(50, activation = 'relu'))      #Hidden Layer\n",
        "model.add(layers.Dense(6, activation = 'softmax'))    #Output Layer"
      ],
      "metadata": {
        "id": "fcZXplWM7Mac"
      },
      "execution_count": 27,
      "outputs": []
    },
    {
      "cell_type": "code",
      "source": [
        "#Compile the model\n",
        "model.compile ( optimizer = 'adam',\n",
        "               loss = 'sparse_categorical_crossentropy',\n",
        "                metrics = ['accuracy'])"
      ],
      "metadata": {
        "id": "LVhWLaaE-biq"
      },
      "execution_count": 28,
      "outputs": []
    },
    {
      "cell_type": "code",
      "source": [
        "#Print the model architecture summary\n",
        "model.summary()"
      ],
      "metadata": {
        "colab": {
          "base_uri": "https://localhost:8080/"
        },
        "id": "0XOoxpzc-zmp",
        "outputId": "8603258c-a39f-4556-88ba-b07470b206b4"
      },
      "execution_count": 29,
      "outputs": [
        {
          "output_type": "stream",
          "name": "stdout",
          "text": [
            "Model: \"sequential_1\"\n",
            "_________________________________________________________________\n",
            " Layer (type)                Output Shape              Param #   \n",
            "=================================================================\n",
            " conv2d_2 (Conv2D)           (None, 122, 122, 2)       56        \n",
            "                                                                 \n",
            " max_pooling2d_2 (MaxPoolin  (None, 61, 61, 2)         0         \n",
            " g2D)                                                            \n",
            "                                                                 \n",
            " conv2d_3 (Conv2D)           (None, 59, 59, 2)         38        \n",
            "                                                                 \n",
            " max_pooling2d_3 (MaxPoolin  (None, 29, 29, 2)         0         \n",
            " g2D)                                                            \n",
            "                                                                 \n",
            " flatten_1 (Flatten)         (None, 1682)              0         \n",
            "                                                                 \n",
            " dense_2 (Dense)             (None, 50)                84150     \n",
            "                                                                 \n",
            " dense_3 (Dense)             (None, 6)                 306       \n",
            "                                                                 \n",
            "=================================================================\n",
            "Total params: 84550 (330.27 KB)\n",
            "Trainable params: 84550 (330.27 KB)\n",
            "Non-trainable params: 0 (0.00 Byte)\n",
            "_________________________________________________________________\n"
          ]
        }
      ]
    },
    {
      "cell_type": "code",
      "source": [
        "#Create Data generators for training and validation\n",
        "batch_size = 16\n",
        "train_datagen = tf.keras.preprocessing.image.ImageDataGenerator(rescale = 1.0/255.0)\n",
        "train_generator = train_datagen.flow_from_directory(\n",
        "    dataset_path,\n",
        "    target_size = (124, 124),\n",
        "    batch_size = batch_size,\n",
        "    class_mode = 'sparse',\n",
        "    subset = 'training'\n",
        ")\n",
        "\n",
        "val_datagen = tf.keras.preprocessing.image.ImageDataGenerator(rescale = 1.0/255.0)\n",
        "val_generator = val_datagen.flow_from_directory(\n",
        "    dataset_path,\n",
        "    target_size = (124, 124),\n",
        "    batch_size = batch_size,\n",
        "    class_mode = 'sparse',\n",
        "    subset = 'validation'\n",
        ")"
      ],
      "metadata": {
        "colab": {
          "base_uri": "https://localhost:8080/"
        },
        "id": "qmMS2SPbJ1XM",
        "outputId": "82a6209a-99b7-466d-a7fd-130947de5306"
      },
      "execution_count": 30,
      "outputs": [
        {
          "output_type": "stream",
          "name": "stdout",
          "text": [
            "Found 651 images belonging to 5 classes.\n",
            "Found 0 images belonging to 5 classes.\n"
          ]
        }
      ]
    },
    {
      "cell_type": "code",
      "source": [
        "#Train the model\n",
        "history = model.fit(\n",
        "    train_generator, validation_data = val_generator, epochs = 50, verbose = 1\n",
        ")"
      ],
      "metadata": {
        "colab": {
          "base_uri": "https://localhost:8080/"
        },
        "id": "cfLMVvvfOqKr",
        "outputId": "4fef94f1-4277-4ab5-d312-0edf70831b8c"
      },
      "execution_count": 31,
      "outputs": [
        {
          "output_type": "stream",
          "name": "stdout",
          "text": [
            "Epoch 1/50\n",
            "41/41 [==============================] - 5s 106ms/step - loss: 1.7571 - accuracy: 0.2181\n",
            "Epoch 2/50\n",
            "41/41 [==============================] - 6s 155ms/step - loss: 1.6281 - accuracy: 0.2396\n",
            "Epoch 3/50\n",
            "41/41 [==============================] - 4s 103ms/step - loss: 1.6191 - accuracy: 0.2350\n",
            "Epoch 4/50\n",
            "41/41 [==============================] - 6s 152ms/step - loss: 1.6017 - accuracy: 0.2657\n",
            "Epoch 5/50\n",
            "41/41 [==============================] - 4s 103ms/step - loss: 1.5833 - accuracy: 0.2888\n",
            "Epoch 6/50\n",
            "41/41 [==============================] - 6s 158ms/step - loss: 1.5890 - accuracy: 0.2673\n",
            "Epoch 7/50\n",
            "41/41 [==============================] - 7s 166ms/step - loss: 1.5795 - accuracy: 0.2765\n",
            "Epoch 8/50\n",
            "41/41 [==============================] - 4s 104ms/step - loss: 1.5800 - accuracy: 0.2611\n",
            "Epoch 9/50\n",
            "41/41 [==============================] - 4s 104ms/step - loss: 1.5671 - accuracy: 0.2750\n",
            "Epoch 10/50\n",
            "41/41 [==============================] - 6s 141ms/step - loss: 1.5620 - accuracy: 0.2596\n",
            "Epoch 11/50\n",
            "41/41 [==============================] - 4s 103ms/step - loss: 1.5392 - accuracy: 0.3333\n",
            "Epoch 12/50\n",
            "41/41 [==============================] - 5s 121ms/step - loss: 1.5224 - accuracy: 0.3241\n",
            "Epoch 13/50\n",
            "41/41 [==============================] - 6s 137ms/step - loss: 1.4999 - accuracy: 0.3748\n",
            "Epoch 14/50\n",
            "41/41 [==============================] - 5s 130ms/step - loss: 1.4894 - accuracy: 0.3763\n",
            "Epoch 15/50\n",
            "41/41 [==============================] - 4s 104ms/step - loss: 1.4681 - accuracy: 0.3948\n",
            "Epoch 16/50\n",
            "41/41 [==============================] - 6s 147ms/step - loss: 1.4441 - accuracy: 0.4117\n",
            "Epoch 17/50\n",
            "41/41 [==============================] - 5s 114ms/step - loss: 1.4353 - accuracy: 0.4270\n",
            "Epoch 18/50\n",
            "41/41 [==============================] - 4s 104ms/step - loss: 1.3972 - accuracy: 0.4439\n",
            "Epoch 19/50\n",
            "41/41 [==============================] - 6s 158ms/step - loss: 1.3613 - accuracy: 0.4562\n",
            "Epoch 20/50\n",
            "41/41 [==============================] - 4s 103ms/step - loss: 1.3413 - accuracy: 0.4700\n",
            "Epoch 21/50\n",
            "41/41 [==============================] - 6s 158ms/step - loss: 1.3063 - accuracy: 0.5223\n",
            "Epoch 22/50\n",
            "41/41 [==============================] - 4s 104ms/step - loss: 1.2821 - accuracy: 0.5422\n",
            "Epoch 23/50\n",
            "41/41 [==============================] - 5s 109ms/step - loss: 1.2315 - accuracy: 0.5392\n",
            "Epoch 24/50\n",
            "41/41 [==============================] - 6s 138ms/step - loss: 1.2048 - accuracy: 0.5484\n",
            "Epoch 25/50\n",
            "41/41 [==============================] - 5s 125ms/step - loss: 1.1494 - accuracy: 0.6114\n",
            "Epoch 26/50\n",
            "41/41 [==============================] - 4s 105ms/step - loss: 1.1263 - accuracy: 0.5929\n",
            "Epoch 27/50\n",
            "41/41 [==============================] - 6s 146ms/step - loss: 1.0701 - accuracy: 0.6283\n",
            "Epoch 28/50\n",
            "41/41 [==============================] - 5s 115ms/step - loss: 1.0214 - accuracy: 0.6375\n",
            "Epoch 29/50\n",
            "41/41 [==============================] - 4s 104ms/step - loss: 0.9689 - accuracy: 0.6743\n",
            "Epoch 30/50\n",
            "41/41 [==============================] - 6s 157ms/step - loss: 0.9347 - accuracy: 0.6989\n",
            "Epoch 31/50\n",
            "41/41 [==============================] - 4s 105ms/step - loss: 0.8765 - accuracy: 0.7127\n",
            "Epoch 32/50\n",
            "41/41 [==============================] - 5s 120ms/step - loss: 0.8401 - accuracy: 0.7496\n",
            "Epoch 33/50\n",
            "41/41 [==============================] - 6s 138ms/step - loss: 0.7839 - accuracy: 0.7496\n",
            "Epoch 34/50\n",
            "41/41 [==============================] - 4s 104ms/step - loss: 0.7445 - accuracy: 0.7696\n",
            "Epoch 35/50\n",
            "41/41 [==============================] - 6s 140ms/step - loss: 0.7028 - accuracy: 0.7819\n",
            "Epoch 36/50\n",
            "41/41 [==============================] - 5s 122ms/step - loss: 0.6659 - accuracy: 0.7926\n",
            "Epoch 37/50\n",
            "41/41 [==============================] - 5s 130ms/step - loss: 0.6333 - accuracy: 0.8095\n",
            "Epoch 38/50\n",
            "41/41 [==============================] - 4s 104ms/step - loss: 0.5853 - accuracy: 0.8233\n",
            "Epoch 39/50\n",
            "41/41 [==============================] - 5s 114ms/step - loss: 0.5456 - accuracy: 0.8633\n",
            "Epoch 40/50\n",
            "41/41 [==============================] - 6s 140ms/step - loss: 0.5158 - accuracy: 0.8541\n",
            "Epoch 41/50\n",
            "41/41 [==============================] - 4s 104ms/step - loss: 0.4784 - accuracy: 0.8833\n",
            "Epoch 42/50\n",
            "41/41 [==============================] - 5s 126ms/step - loss: 0.4469 - accuracy: 0.8833\n",
            "Epoch 43/50\n",
            "41/41 [==============================] - 4s 104ms/step - loss: 0.4171 - accuracy: 0.8925\n",
            "Epoch 44/50\n",
            "41/41 [==============================] - 6s 146ms/step - loss: 0.3965 - accuracy: 0.9048\n",
            "Epoch 45/50\n",
            "41/41 [==============================] - 4s 105ms/step - loss: 0.3652 - accuracy: 0.9201\n",
            "Epoch 46/50\n",
            "41/41 [==============================] - 6s 148ms/step - loss: 0.3433 - accuracy: 0.9186\n",
            "Epoch 47/50\n",
            "41/41 [==============================] - 6s 137ms/step - loss: 0.3196 - accuracy: 0.9355\n",
            "Epoch 48/50\n",
            "41/41 [==============================] - 7s 163ms/step - loss: 0.2948 - accuracy: 0.9447\n",
            "Epoch 49/50\n",
            "41/41 [==============================] - 4s 105ms/step - loss: 0.2747 - accuracy: 0.9478\n",
            "Epoch 50/50\n",
            "41/41 [==============================] - 4s 104ms/step - loss: 0.2556 - accuracy: 0.9447\n"
          ]
        }
      ]
    },
    {
      "cell_type": "code",
      "source": [
        "# Plot training and validation accuracy\n",
        "plt.plot(history.history['accuracy'], label='Training Accuracy')\n",
        "plt.plot(history.history['val_accuracy'], label='Validation Accuracy')\n",
        "plt.xlabel('Epoch')\n",
        "plt.ylabel('Accuracy')\n",
        "plt.legend()\n",
        "plt.show()\n",
        "\n",
        "# Plot training and validation loss\n",
        "plt.plot(history.history['loss'], label='Training Loss')\n",
        "plt.plot(history.history['val_loss'], label='Validation Loss')\n",
        "plt.xlabel('Epoch')\n",
        "plt.ylabel('Loss')\n",
        "plt.legend()\n",
        "plt.show()"
      ],
      "metadata": {
        "colab": {
          "base_uri": "https://localhost:8080/",
          "height": 658
        },
        "id": "sKkSwW-rYXa8",
        "outputId": "4eaf270d-593d-4322-d15a-f8c84412aa5d"
      },
      "execution_count": 32,
      "outputs": [
        {
          "output_type": "error",
          "ename": "KeyError",
          "evalue": "ignored",
          "traceback": [
            "\u001b[0;31m---------------------------------------------------------------------------\u001b[0m",
            "\u001b[0;31mKeyError\u001b[0m                                  Traceback (most recent call last)",
            "\u001b[0;32m<ipython-input-32-6f856dfded40>\u001b[0m in \u001b[0;36m<cell line: 3>\u001b[0;34m()\u001b[0m\n\u001b[1;32m      1\u001b[0m \u001b[0;31m# Plot training and validation accuracy\u001b[0m\u001b[0;34m\u001b[0m\u001b[0;34m\u001b[0m\u001b[0m\n\u001b[1;32m      2\u001b[0m \u001b[0mplt\u001b[0m\u001b[0;34m.\u001b[0m\u001b[0mplot\u001b[0m\u001b[0;34m(\u001b[0m\u001b[0mhistory\u001b[0m\u001b[0;34m.\u001b[0m\u001b[0mhistory\u001b[0m\u001b[0;34m[\u001b[0m\u001b[0;34m'accuracy'\u001b[0m\u001b[0;34m]\u001b[0m\u001b[0;34m,\u001b[0m \u001b[0mlabel\u001b[0m\u001b[0;34m=\u001b[0m\u001b[0;34m'Training Accuracy'\u001b[0m\u001b[0;34m)\u001b[0m\u001b[0;34m\u001b[0m\u001b[0;34m\u001b[0m\u001b[0m\n\u001b[0;32m----> 3\u001b[0;31m \u001b[0mplt\u001b[0m\u001b[0;34m.\u001b[0m\u001b[0mplot\u001b[0m\u001b[0;34m(\u001b[0m\u001b[0mhistory\u001b[0m\u001b[0;34m.\u001b[0m\u001b[0mhistory\u001b[0m\u001b[0;34m[\u001b[0m\u001b[0;34m'val_accuracy'\u001b[0m\u001b[0;34m]\u001b[0m\u001b[0;34m,\u001b[0m \u001b[0mlabel\u001b[0m\u001b[0;34m=\u001b[0m\u001b[0;34m'Validation Accuracy'\u001b[0m\u001b[0;34m)\u001b[0m\u001b[0;34m\u001b[0m\u001b[0;34m\u001b[0m\u001b[0m\n\u001b[0m\u001b[1;32m      4\u001b[0m \u001b[0mplt\u001b[0m\u001b[0;34m.\u001b[0m\u001b[0mxlabel\u001b[0m\u001b[0;34m(\u001b[0m\u001b[0;34m'Epoch'\u001b[0m\u001b[0;34m)\u001b[0m\u001b[0;34m\u001b[0m\u001b[0;34m\u001b[0m\u001b[0m\n\u001b[1;32m      5\u001b[0m \u001b[0mplt\u001b[0m\u001b[0;34m.\u001b[0m\u001b[0mylabel\u001b[0m\u001b[0;34m(\u001b[0m\u001b[0;34m'Accuracy'\u001b[0m\u001b[0;34m)\u001b[0m\u001b[0;34m\u001b[0m\u001b[0;34m\u001b[0m\u001b[0m\n",
            "\u001b[0;31mKeyError\u001b[0m: 'val_accuracy'"
          ]
        },
        {
          "output_type": "display_data",
          "data": {
            "text/plain": [
              "<Figure size 640x480 with 1 Axes>"
            ],
            "image/png": "[encoded data removed]"
          },
          "metadata": {}
        }
      ]
    },
    {
      "cell_type": "code",
      "source": [
        "#Fine-Tune the model\n",
        "\n",
        "model = models.Sequential()\n",
        "\n",
        "#This is the first convolution\n",
        "model.add(layers.Conv2D(32, (3, 3), activation = 'relu', input_shape =(124,124, 3), padding = 'same'))\n",
        "model.add(layers.MaxPooling2D((2, 2)))\n",
        "\n",
        "#This is the second convolution\n",
        "model.add(layers.Conv2D(64, (3, 3), activation = 'relu', padding = 'same'))\n",
        "model.add(layers.MaxPooling2D((2, 2)))\n",
        "\n",
        "model.add(layers.Flatten())   #Input Layer\n",
        "model.add(layers.Dense(128, activation = 'relu'))   #Hidden layer\n",
        "model.add(layers.Dropout(0.5))    #Add a dropout layer\n",
        "model.add(layers.Dense(6, activation = 'softmax'))    #Output layer"
      ],
      "metadata": {
        "id": "zeEFb-ZfbbZN"
      },
      "execution_count": 35,
      "outputs": []
    },
    {
      "cell_type": "code",
      "source": [
        "#Compile the modified model\n",
        "model.compile(\n",
        "    optimizer = 'adam',\n",
        "    loss = 'sparse_categorical_crossentropy',\n",
        "    metrics = ['accuracy']\n",
        ")"
      ],
      "metadata": {
        "id": "GjHZ2aANkQVz"
      },
      "execution_count": 39,
      "outputs": []
    },
    {
      "cell_type": "code",
      "source": [
        "#Train the modified model\n",
        "history = model.fit(\n",
        "    train_generator, validation_data=val_generator, epochs=50, verbose=1)"
      ],
      "metadata": {
        "colab": {
          "base_uri": "https://localhost:8080/"
        },
        "id": "DX99XHifkzAU",
        "outputId": "5ada88a0-b7be-4f29-a1ef-c740e1a1747a"
      },
      "execution_count": 40,
      "outputs": [
        {
          "output_type": "stream",
          "name": "stdout",
          "text": [
            "Epoch 1/50\n",
            "41/41 [==============================] - 19s 443ms/step - loss: 1.9967 - accuracy: 0.2519\n",
            "Epoch 2/50\n",
            "41/41 [==============================] - 19s 465ms/step - loss: 1.5161 - accuracy: 0.3502\n",
            "Epoch 3/50\n",
            "41/41 [==============================] - 18s 446ms/step - loss: 1.2473 - accuracy: 0.4885\n",
            "Epoch 4/50\n",
            "41/41 [==============================] - 18s 437ms/step - loss: 1.0097 - accuracy: 0.6283\n",
            "Epoch 5/50\n",
            "41/41 [==============================] - 19s 471ms/step - loss: 0.7916 - accuracy: 0.6851\n",
            "Epoch 6/50\n",
            "41/41 [==============================] - 20s 477ms/step - loss: 0.6208 - accuracy: 0.7711\n",
            "Epoch 7/50\n",
            "41/41 [==============================] - 18s 427ms/step - loss: 0.5132 - accuracy: 0.8126\n",
            "Epoch 8/50\n",
            "41/41 [==============================] - 18s 442ms/step - loss: 0.4311 - accuracy: 0.8648\n",
            "Epoch 9/50\n",
            "41/41 [==============================] - 18s 445ms/step - loss: 0.3509 - accuracy: 0.9002\n",
            "Epoch 10/50\n",
            "41/41 [==============================] - 18s 443ms/step - loss: 0.2604 - accuracy: 0.9232\n",
            "Epoch 11/50\n",
            "41/41 [==============================] - 20s 492ms/step - loss: 0.2824 - accuracy: 0.9339\n",
            "Epoch 12/50\n",
            "41/41 [==============================] - 18s 441ms/step - loss: 0.2230 - accuracy: 0.9293\n",
            "Epoch 13/50\n",
            "41/41 [==============================] - 21s 511ms/step - loss: 0.1868 - accuracy: 0.9309\n",
            "Epoch 14/50\n",
            "41/41 [==============================] - 18s 436ms/step - loss: 0.1876 - accuracy: 0.9339\n",
            "Epoch 15/50\n",
            "41/41 [==============================] - 19s 454ms/step - loss: 0.1508 - accuracy: 0.9601\n",
            "Epoch 16/50\n",
            "41/41 [==============================] - 18s 438ms/step - loss: 0.1239 - accuracy: 0.9662\n",
            "Epoch 17/50\n",
            "41/41 [==============================] - 18s 431ms/step - loss: 0.1295 - accuracy: 0.9647\n",
            "Epoch 18/50\n",
            "41/41 [==============================] - 19s 478ms/step - loss: 0.1228 - accuracy: 0.9570\n",
            "Epoch 19/50\n",
            "41/41 [==============================] - 19s 450ms/step - loss: 0.1190 - accuracy: 0.9739\n",
            "Epoch 20/50\n",
            "41/41 [==============================] - 21s 505ms/step - loss: 0.0989 - accuracy: 0.9724\n",
            "Epoch 21/50\n",
            "41/41 [==============================] - 18s 442ms/step - loss: 0.1032 - accuracy: 0.9677\n",
            "Epoch 22/50\n",
            "41/41 [==============================] - 20s 478ms/step - loss: 0.1023 - accuracy: 0.9724\n",
            "Epoch 23/50\n",
            "41/41 [==============================] - 18s 439ms/step - loss: 0.0928 - accuracy: 0.9816\n",
            "Epoch 24/50\n",
            "41/41 [==============================] - 18s 441ms/step - loss: 0.1002 - accuracy: 0.9754\n",
            "Epoch 25/50\n",
            "41/41 [==============================] - 18s 445ms/step - loss: 0.0597 - accuracy: 0.9862\n",
            "Epoch 26/50\n",
            "41/41 [==============================] - 20s 481ms/step - loss: 0.0809 - accuracy: 0.9816\n",
            "Epoch 27/50\n",
            "41/41 [==============================] - 18s 440ms/step - loss: 0.0703 - accuracy: 0.9785\n",
            "Epoch 28/50\n",
            "41/41 [==============================] - 20s 492ms/step - loss: 0.0989 - accuracy: 0.9662\n",
            "Epoch 29/50\n",
            "41/41 [==============================] - 18s 439ms/step - loss: 0.0617 - accuracy: 0.9862\n",
            "Epoch 30/50\n",
            "41/41 [==============================] - 20s 478ms/step - loss: 0.0656 - accuracy: 0.9785\n",
            "Epoch 31/50\n",
            "41/41 [==============================] - 18s 435ms/step - loss: 0.0702 - accuracy: 0.9800\n",
            "Epoch 32/50\n",
            "41/41 [==============================] - 18s 433ms/step - loss: 0.0673 - accuracy: 0.9816\n",
            "Epoch 33/50\n",
            "41/41 [==============================] - 20s 478ms/step - loss: 0.0796 - accuracy: 0.9770\n",
            "Epoch 34/50\n",
            "41/41 [==============================] - 18s 436ms/step - loss: 0.0876 - accuracy: 0.9662\n",
            "Epoch 35/50\n",
            "41/41 [==============================] - 18s 440ms/step - loss: 0.0565 - accuracy: 0.9754\n",
            "Epoch 36/50\n",
            "41/41 [==============================] - 22s 534ms/step - loss: 0.0781 - accuracy: 0.9770\n",
            "Epoch 37/50\n",
            "41/41 [==============================] - 19s 459ms/step - loss: 0.1015 - accuracy: 0.9816\n",
            "Epoch 38/50\n",
            "41/41 [==============================] - 19s 454ms/step - loss: 0.1038 - accuracy: 0.9754\n",
            "Epoch 39/50\n",
            "41/41 [==============================] - 21s 520ms/step - loss: 0.0738 - accuracy: 0.9862\n",
            "Epoch 40/50\n",
            "41/41 [==============================] - 28s 690ms/step - loss: 0.0559 - accuracy: 0.9816\n",
            "Epoch 41/50\n",
            "41/41 [==============================] - 26s 651ms/step - loss: 0.0510 - accuracy: 0.9831\n",
            "Epoch 42/50\n",
            "41/41 [==============================] - 23s 568ms/step - loss: 0.0319 - accuracy: 0.9892\n",
            "Epoch 43/50\n",
            "41/41 [==============================] - 26s 632ms/step - loss: 0.0557 - accuracy: 0.9816\n",
            "Epoch 44/50\n",
            "41/41 [==============================] - 27s 664ms/step - loss: 0.0553 - accuracy: 0.9754\n",
            "Epoch 45/50\n",
            "41/41 [==============================] - 26s 644ms/step - loss: 0.0693 - accuracy: 0.9846\n",
            "Epoch 46/50\n",
            "41/41 [==============================] - 27s 627ms/step - loss: 0.0351 - accuracy: 0.9877\n",
            "Epoch 47/50\n",
            "41/41 [==============================] - 25s 594ms/step - loss: 0.0542 - accuracy: 0.9831\n",
            "Epoch 48/50\n",
            "41/41 [==============================] - 23s 570ms/step - loss: 0.0369 - accuracy: 0.9892\n",
            "Epoch 49/50\n",
            "41/41 [==============================] - 18s 441ms/step - loss: 0.0429 - accuracy: 0.9862\n",
            "Epoch 50/50\n",
            "41/41 [==============================] - 21s 506ms/step - loss: 0.0302 - accuracy: 0.9877\n"
          ]
        }
      ]
    },
    {
      "cell_type": "code",
      "source": [
        "#Evaluate the modified model\n",
        "\n",
        "#Plot training and validation accuracy\n",
        "plt.plot(history.history['accuracy'], label = 'Training Accuracy')\n",
        "plt.plot(history.history['val_accuracy'], label = 'Validation Accuracy')\n",
        "plt.xlabel('Epoch')\n",
        "plt.ylabel('Accuracy')\n",
        "plt.legend()\n",
        "plt.show()\n",
        "\n",
        "#Plot tarining and validation loss\n",
        "plt.plot(history.history['loss'], label = 'Training Loss')\n",
        "plt.plot(history.history['val_loss'], label = 'Validation_Loss')\n",
        "plt.xlabel('Epoch')\n",
        "plt.ylabel('Loss')\n",
        "plt.legend()\n",
        "plt.show()"
      ],
      "metadata": {
        "colab": {
          "base_uri": "https://localhost:8080/",
          "height": 658
        },
        "id": "irONZDa6oofL",
        "outputId": "2d0a83fb-96ff-4dc5-e877-14c40b751acb"
      },
      "execution_count": 41,
      "outputs": [
        {
          "output_type": "error",
          "ename": "KeyError",
          "evalue": "ignored",
          "traceback": [
            "\u001b[0;31m---------------------------------------------------------------------------\u001b[0m",
            "\u001b[0;31mKeyError\u001b[0m                                  Traceback (most recent call last)",
            "\u001b[0;32m<ipython-input-41-43fbb7e719a0>\u001b[0m in \u001b[0;36m<cell line: 5>\u001b[0;34m()\u001b[0m\n\u001b[1;32m      3\u001b[0m \u001b[0;31m#Plot training and validation accuracy\u001b[0m\u001b[0;34m\u001b[0m\u001b[0;34m\u001b[0m\u001b[0m\n\u001b[1;32m      4\u001b[0m \u001b[0mplt\u001b[0m\u001b[0;34m.\u001b[0m\u001b[0mplot\u001b[0m\u001b[0;34m(\u001b[0m\u001b[0mhistory\u001b[0m\u001b[0;34m.\u001b[0m\u001b[0mhistory\u001b[0m\u001b[0;34m[\u001b[0m\u001b[0;34m'accuracy'\u001b[0m\u001b[0;34m]\u001b[0m\u001b[0;34m,\u001b[0m \u001b[0mlabel\u001b[0m \u001b[0;34m=\u001b[0m \u001b[0;34m'Training Accuracy'\u001b[0m\u001b[0;34m)\u001b[0m\u001b[0;34m\u001b[0m\u001b[0;34m\u001b[0m\u001b[0m\n\u001b[0;32m----> 5\u001b[0;31m \u001b[0mplt\u001b[0m\u001b[0;34m.\u001b[0m\u001b[0mplot\u001b[0m\u001b[0;34m(\u001b[0m\u001b[0mhistory\u001b[0m\u001b[0;34m.\u001b[0m\u001b[0mhistory\u001b[0m\u001b[0;34m[\u001b[0m\u001b[0;34m'val_accuracy'\u001b[0m\u001b[0;34m]\u001b[0m\u001b[0;34m,\u001b[0m \u001b[0mlabel\u001b[0m \u001b[0;34m=\u001b[0m \u001b[0;34m'Validation Accuracy'\u001b[0m\u001b[0;34m)\u001b[0m\u001b[0;34m\u001b[0m\u001b[0;34m\u001b[0m\u001b[0m\n\u001b[0m\u001b[1;32m      6\u001b[0m \u001b[0mplt\u001b[0m\u001b[0;34m.\u001b[0m\u001b[0mxlabel\u001b[0m\u001b[0;34m(\u001b[0m\u001b[0;34m'Epoch'\u001b[0m\u001b[0;34m)\u001b[0m\u001b[0;34m\u001b[0m\u001b[0;34m\u001b[0m\u001b[0m\n\u001b[1;32m      7\u001b[0m \u001b[0mplt\u001b[0m\u001b[0;34m.\u001b[0m\u001b[0mylabel\u001b[0m\u001b[0;34m(\u001b[0m\u001b[0;34m'Accuracy'\u001b[0m\u001b[0;34m)\u001b[0m\u001b[0;34m\u001b[0m\u001b[0;34m\u001b[0m\u001b[0m\n",
            "\u001b[0;31mKeyError\u001b[0m: 'val_accuracy'"
          ]
        },
        {
          "output_type": "display_data",
          "data": {
            "text/plain": [
              "<Figure size 640x480 with 1 Axes>"
            ],
            "image/png": "[encoded data removed]"
          },
          "metadata": {}
        }
      ]
    }
  ]
}